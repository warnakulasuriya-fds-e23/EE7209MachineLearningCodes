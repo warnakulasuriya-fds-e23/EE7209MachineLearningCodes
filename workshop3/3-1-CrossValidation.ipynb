{
  "cells": [
    {
      "cell_type": "markdown",
      "metadata": {
        "id": "JNAQsAtJ94NS"
      },
      "source": [
        "# K-Fold Cross Validation\n",
        "\n",
        "Please refer to the following documentation from Scikit-Learn to understand the concepts related with K-Fold Cross Validation.\n",
        "\n",
        "Reference: https://isheunesu48.medium.com/cross-validation-using-k-fold-with-scikit-learn-cfc44bf1ce6#:~:text=Lets%20take%20the%20scenario%20of,serve%20as%20the%20training%20set.\n",
        "\n",
        "In this lab we are going to implement a SVC model using k-fold cross validation.\n",
        "\n",
        "The Iris Dataset that avaiable in Scikit-Learn Datasets will be utilized during this task.\n",
        "\n",
        "Dataset: https://scikit-learn.org/stable/modules/generated/sklearn.datasets.load_iris.html#sklearn.datasets.load_iris\n",
        "\n"
      ]
    },
    {
      "cell_type": "code",
      "execution_count": null,
      "metadata": {
        "id": "xldxV7Ibfk5R"
      },
      "outputs": [],
      "source": [
        "# Load the necessary libararies\n",
        "\n",
        "# Your code here"
      ]
    },
    {
      "cell_type": "code",
      "execution_count": null,
      "metadata": {
        "id": "3HsCMVYEDgU9"
      },
      "outputs": [],
      "source": [
        "# Load the dataset\n",
        "\n",
        "# Your code here"
      ]
    },
    {
      "cell_type": "code",
      "execution_count": null,
      "metadata": {
        "id": "R9IbyP5m2cq6"
      },
      "outputs": [],
      "source": [
        "# Print the data columns\n",
        "\n",
        "# Your code here"
      ]
    },
    {
      "cell_type": "code",
      "execution_count": null,
      "metadata": {
        "id": "5eyWRyua2fwh"
      },
      "outputs": [],
      "source": [
        "# Print the target column\n",
        "\n",
        "# Your code here"
      ]
    },
    {
      "cell_type": "code",
      "execution_count": null,
      "metadata": {
        "id": "AsYrbXTRDv-9"
      },
      "outputs": [],
      "source": [
        "# Print the model feature names\n",
        "\n",
        "# Your code here"
      ]
    },
    {
      "cell_type": "code",
      "execution_count": null,
      "metadata": {
        "id": "J81RG5_mEQd0"
      },
      "outputs": [],
      "source": [
        "# Select two features from the above features and plot the dataset in the 2D space using matplotlib scatterplots\n",
        "\n",
        "# Your code here"
      ]
    },
    {
      "cell_type": "code",
      "execution_count": null,
      "metadata": {
        "id": "exk8nZuCFDbw"
      },
      "outputs": [],
      "source": [
        "# Seperate the features and target from the dataset.\n",
        "# Name them as X and y respectively\n",
        "\n",
        "# Your code here"
      ]
    },
    {
      "cell_type": "code",
      "execution_count": null,
      "metadata": {
        "id": "icT7gEzpFpcj"
      },
      "outputs": [],
      "source": [
        "# Display the shape of the feature set and target\n",
        "\n",
        "# Your code here"
      ]
    },
    {
      "cell_type": "code",
      "execution_count": null,
      "metadata": {
        "id": "ChoRYClBFyRq"
      },
      "outputs": [],
      "source": [
        "# Split the data into train and test sets\n",
        "\n",
        "# Your code here"
      ]
    },
    {
      "cell_type": "code",
      "execution_count": null,
      "metadata": {
        "id": "NK7CmFmZF_7K"
      },
      "outputs": [],
      "source": [
        "# Print the train and test set sizes\n",
        "\n",
        "# Your code here"
      ]
    },
    {
      "cell_type": "code",
      "execution_count": null,
      "metadata": {
        "id": "7Zg1dO15GTEB"
      },
      "outputs": [],
      "source": [
        "# Scale the data using scikit-learn standard scaler\n",
        "\n",
        "# Your code here"
      ]
    },
    {
      "cell_type": "code",
      "execution_count": null,
      "metadata": {
        "id": "4CHPOMubGlTJ"
      },
      "outputs": [],
      "source": [
        "# Define SVC Classifier with default parameters\n",
        "\n",
        "# Your code here"
      ]
    },
    {
      "cell_type": "code",
      "execution_count": null,
      "metadata": {
        "id": "3lwl8JqWHnZM"
      },
      "outputs": [],
      "source": [
        "# Estimate the accuracy of the model with k-fold cross validation.\n",
        "# Use 'cross_val_score' function provided with scikit-learn to obtain the accuracy for each split\n",
        "# use k = 5\n",
        "\n",
        "# Your code here"
      ]
    },
    {
      "cell_type": "code",
      "execution_count": null,
      "metadata": {
        "id": "DbekDHWMIh5U"
      },
      "outputs": [],
      "source": [
        "# Print the calculated scores\n",
        "\n",
        "# Your code here"
      ]
    },
    {
      "cell_type": "code",
      "execution_count": null,
      "metadata": {
        "id": "fxoZ5JajIkh2"
      },
      "outputs": [],
      "source": [
        "# Calculate the mean and standard deviation of the accuracy scores obtained via k-fold cross validation\n",
        "# Use numpy functions\n",
        "\n",
        "# Your code here"
      ]
    },
    {
      "cell_type": "code",
      "execution_count": null,
      "metadata": {
        "id": "0Q0U9LjKJAep"
      },
      "outputs": [],
      "source": [
        "# Fit the model once again with whole training dataset without cross validation.\n",
        "# Test the model performance with test set\n",
        "\n",
        "# Your code here"
      ]
    }
  ],
  "metadata": {
    "colab": {
      "authorship_tag": "ABX9TyMduRiiZgTnTBhRRUFxQS0R",
      "provenance": [
        {
          "file_id": "17d3aqAOfa-dBHZZWFI27UbMXPtqyXAG8",
          "timestamp": 1702487274020
        }
      ]
    },
    "kernelspec": {
      "display_name": "base",
      "language": "python",
      "name": "python3"
    },
    "language_info": {
      "name": "python",
      "version": "3.12.4"
    }
  },
  "nbformat": 4,
  "nbformat_minor": 0
}
