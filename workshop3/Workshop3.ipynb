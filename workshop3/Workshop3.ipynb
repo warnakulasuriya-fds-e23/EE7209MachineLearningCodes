{
  "nbformat": 4,
  "nbformat_minor": 0,
  "metadata": {
    "colab": {
      "provenance": [
        {
          "file_id": "17d3aqAOfa-dBHZZWFI27UbMXPtqyXAG8",
          "timestamp": 1702487274020
        }
      ],
      "authorship_tag": "ABX9TyMduRiiZgTnTBhRRUFxQS0R"
    },
    "kernelspec": {
      "name": "python3",
      "display_name": "Python 3"
    },
    "language_info": {
      "name": "python"
    }
  },
  "cells": [
    {
      "cell_type": "markdown",
      "source": [
        "# K-Fold Cross Validation\n",
        "\n",
        "Please refer to the following documentation from Scikit-Learn to understand the concepts related with K-Fold Cross Validation.\n",
        "\n",
        "Reference: https://isheunesu48.medium.com/cross-validation-using-k-fold-with-scikit-learn-cfc44bf1ce6#:~:text=Lets%20take%20the%20scenario%20of,serve%20as%20the%20training%20set.\n",
        "\n",
        "In this lab we are going to implement a SVC model using k-fold cross validation.\n",
        "\n",
        "The Iris Dataset that avaiable in Scikit-Learn Datasets will be utilized during this task.\n",
        "\n",
        "Dataset: https://scikit-learn.org/stable/modules/generated/sklearn.datasets.load_iris.html#sklearn.datasets.load_iris\n",
        "\n"
      ],
      "metadata": {
        "id": "JNAQsAtJ94NS"
      }
    },
    {
      "cell_type": "code",
      "execution_count": null,
      "metadata": {
        "id": "xldxV7Ibfk5R"
      },
      "outputs": [],
      "source": [
        "# Load the necessary libararies\n",
        "\n",
        "# Your code here"
      ]
    },
    {
      "cell_type": "code",
      "source": [
        "# Load the dataset\n",
        "\n",
        "# Your code here"
      ],
      "metadata": {
        "id": "3HsCMVYEDgU9"
      },
      "execution_count": null,
      "outputs": []
    },
    {
      "cell_type": "code",
      "source": [
        "# Print the data columns\n",
        "\n",
        "# Your code here"
      ],
      "metadata": {
        "id": "R9IbyP5m2cq6"
      },
      "execution_count": null,
      "outputs": []
    },
    {
      "cell_type": "code",
      "source": [
        "# Print the target column\n",
        "\n",
        "# Your code here"
      ],
      "metadata": {
        "id": "5eyWRyua2fwh"
      },
      "execution_count": null,
      "outputs": []
    },
    {
      "cell_type": "code",
      "source": [
        "# Print the model feature names\n",
        "\n",
        "# Your code here"
      ],
      "metadata": {
        "id": "AsYrbXTRDv-9"
      },
      "execution_count": null,
      "outputs": []
    },
    {
      "cell_type": "code",
      "source": [
        "# Select two features from the above features and plot the dataset in the 2D space using matplotlib scatterplots\n",
        "\n",
        "# Your code here"
      ],
      "metadata": {
        "id": "J81RG5_mEQd0"
      },
      "execution_count": null,
      "outputs": []
    },
    {
      "cell_type": "code",
      "source": [
        "# Seperate the features and target from the dataset.\n",
        "# Name them as X and y respectively\n",
        "\n",
        "# Your code here"
      ],
      "metadata": {
        "id": "exk8nZuCFDbw"
      },
      "execution_count": null,
      "outputs": []
    },
    {
      "cell_type": "code",
      "source": [
        "# Display the shape of the feature set and target\n",
        "\n",
        "# Your code here"
      ],
      "metadata": {
        "id": "icT7gEzpFpcj"
      },
      "execution_count": null,
      "outputs": []
    },
    {
      "cell_type": "code",
      "source": [
        "# Split the data into train and test sets\n",
        "\n",
        "# Your code here"
      ],
      "metadata": {
        "id": "ChoRYClBFyRq"
      },
      "execution_count": null,
      "outputs": []
    },
    {
      "cell_type": "code",
      "source": [
        "# Print the train and test set sizes\n",
        "\n",
        "# Your code here"
      ],
      "metadata": {
        "id": "NK7CmFmZF_7K"
      },
      "execution_count": null,
      "outputs": []
    },
    {
      "cell_type": "code",
      "source": [
        "# Scale the data using scikit-learn standard scaler\n",
        "\n",
        "# Your code here"
      ],
      "metadata": {
        "id": "7Zg1dO15GTEB"
      },
      "execution_count": null,
      "outputs": []
    },
    {
      "cell_type": "code",
      "source": [
        "# Define SVC Classifier with default parameters\n",
        "\n",
        "# Your code here"
      ],
      "metadata": {
        "id": "4CHPOMubGlTJ"
      },
      "execution_count": null,
      "outputs": []
    },
    {
      "cell_type": "code",
      "source": [
        "# Estimate the accuracy of the model with k-fold cross validation.\n",
        "# Use 'cross_val_score' function provided with scikit-learn to obtain the accuracy for each split\n",
        "# use k = 5\n",
        "\n",
        "# Your code here"
      ],
      "metadata": {
        "id": "3lwl8JqWHnZM"
      },
      "execution_count": null,
      "outputs": []
    },
    {
      "cell_type": "code",
      "source": [
        "# Print the calculated scores\n",
        "\n",
        "# Your code here"
      ],
      "metadata": {
        "id": "DbekDHWMIh5U"
      },
      "execution_count": null,
      "outputs": []
    },
    {
      "cell_type": "code",
      "source": [
        "# Calculate the mean and standard deviation of the accuracy scores obtained via k-fold cross validation\n",
        "# Use numpy functions\n",
        "\n",
        "# Your code here"
      ],
      "metadata": {
        "id": "fxoZ5JajIkh2"
      },
      "execution_count": null,
      "outputs": []
    },
    {
      "cell_type": "code",
      "source": [
        "# Fit the model once again with whole training dataset without cross validation.\n",
        "# Test the model performance with test set\n",
        "\n",
        "# Your code here"
      ],
      "metadata": {
        "id": "0Q0U9LjKJAep"
      },
      "execution_count": null,
      "outputs": []
    }
  ]
}