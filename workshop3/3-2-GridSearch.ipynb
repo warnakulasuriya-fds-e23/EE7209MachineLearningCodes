{
  "cells": [
    {
      "cell_type": "markdown",
      "metadata": {
        "id": "zmxoHqOk9-2g"
      },
      "source": [
        "# Grid Search"
      ]
    },
    {
      "cell_type": "markdown",
      "metadata": {
        "id": "VVqVpbSuWOCm"
      },
      "source": [
        "In this section we are trying to utilize GridSearchCV function provided with Scikit-Learn in order to find the optimal paramters for a Random Forest Model.\n",
        "\n",
        "Please refer into following link to get some overall idea about GridSearchCV before prceeding into the excercise.\n",
        "\n",
        "GridSearchCV: https://scikit-learn.org/stable/modules/generated/sklearn.model_selection.GridSearchCV.html\n",
        "\n",
        "The following link provide information about Random Forest Classifer and its usage in Scikit-Learn library.\n",
        "\n",
        "RandomForest: https://scikit-learn.org/stable/modules/generated/sklearn.ensemble.RandomForestClassifier.html\n",
        "\n",
        "Furthermore, the following dataset will be utilized for the following task.\n",
        "\n",
        "Heart Disease Cleveland: https://www.kaggle.com/datasets/ritwikb3/heart-disease-cleveland"
      ]
    },
    {
      "cell_type": "code",
      "execution_count": null,
      "metadata": {
        "id": "N_GWF08lpCBN"
      },
      "outputs": [],
      "source": [
        "# Load the necesary libraries\n",
        "\n",
        "# Your code here"
      ]
    },
    {
      "cell_type": "code",
      "execution_count": null,
      "metadata": {
        "id": "eBqGiLsbdt--"
      },
      "outputs": [],
      "source": [
        "# suppress warning messages\n",
        "\n",
        "# Your code here"
      ]
    },
    {
      "cell_type": "code",
      "execution_count": null,
      "metadata": {
        "id": "ymFkyfvUZGp6"
      },
      "outputs": [],
      "source": [
        "# Load the dataset as a Pandas dataframe and display the head\n",
        "\n",
        "# Your code here"
      ]
    },
    {
      "cell_type": "code",
      "execution_count": null,
      "metadata": {
        "id": "52d6TNyOegLh"
      },
      "outputs": [],
      "source": [
        "# Check for the null values\n",
        "\n",
        "# Your code here"
      ]
    },
    {
      "cell_type": "code",
      "execution_count": null,
      "metadata": {
        "id": "WNOkCmBJeqrR"
      },
      "outputs": [],
      "source": [
        "# Seperate the feature columns and targer using pandas functions\n",
        "\n",
        "# Your code here"
      ]
    },
    {
      "cell_type": "code",
      "execution_count": null,
      "metadata": {
        "id": "K2FMFhRhe4-F"
      },
      "outputs": [],
      "source": [
        "# Split dataset into train and test sets\n",
        "\n",
        "# Your code here"
      ]
    },
    {
      "cell_type": "code",
      "execution_count": null,
      "metadata": {
        "id": "kGun28_YfSyF"
      },
      "outputs": [],
      "source": [
        "# Print train dataset size\n",
        "\n",
        "# Your code here"
      ]
    },
    {
      "cell_type": "code",
      "execution_count": null,
      "metadata": {
        "id": "RYezCmpyfUiM"
      },
      "outputs": [],
      "source": [
        "# Print test dataset size\n",
        "\n",
        "# Your code here"
      ]
    },
    {
      "cell_type": "code",
      "execution_count": null,
      "metadata": {
        "id": "f0T0fs1mgtdF"
      },
      "outputs": [],
      "source": [
        "# Scale the data using standard scaler\n",
        "\n",
        "# Your code here"
      ]
    },
    {
      "cell_type": "code",
      "execution_count": null,
      "metadata": {
        "id": "1AZFHaIifi9d"
      },
      "outputs": [],
      "source": [
        "# Define the random forest classifier with the default paramters\n",
        "\n",
        "# Your code here"
      ]
    },
    {
      "cell_type": "code",
      "execution_count": null,
      "metadata": {
        "id": "P1n4n6BpgOVX"
      },
      "outputs": [],
      "source": [
        "# Define the parameter grid for the grid search\n",
        "# Refer to the GridSearchCV Documentation\n",
        "\n",
        "# Your code here"
      ]
    },
    {
      "cell_type": "code",
      "execution_count": null,
      "metadata": {
        "id": "rSR4IZIqghVF"
      },
      "outputs": [],
      "source": [
        "# Peform Grid Search to identify optimal parameters\n",
        "# Use cv = 5\n",
        "\n",
        "# Your code here"
      ]
    },
    {
      "cell_type": "code",
      "execution_count": null,
      "metadata": {
        "id": "OZSYH5nmgoD8"
      },
      "outputs": [],
      "source": [
        "clf.fit(X_train_scaled, y_train)"
      ]
    },
    {
      "cell_type": "code",
      "execution_count": null,
      "metadata": {
        "id": "eGIAseRvhjym"
      },
      "outputs": [],
      "source": [
        "# Print best hyperparameters detected from the Grid Search\n",
        "\n",
        "# Your code here"
      ]
    },
    {
      "cell_type": "code",
      "execution_count": null,
      "metadata": {
        "id": "3qF4-Rh_hwbN"
      },
      "outputs": [],
      "source": [
        "# Print the mean cross-validated score of the best_estimator\n",
        "\n",
        "# Your code here"
      ]
    },
    {
      "cell_type": "code",
      "execution_count": null,
      "metadata": {
        "id": "K2KH5XlFiMlM"
      },
      "outputs": [],
      "source": [
        "# Use best estimator to obtain the accuracy for the test set\n",
        "\n",
        "# Your code here"
      ]
    }
  ],
  "metadata": {
    "colab": {
      "provenance": []
    },
    "kernelspec": {
      "display_name": "base",
      "language": "python",
      "name": "python3"
    },
    "language_info": {
      "name": "python",
      "version": "3.12.4"
    }
  },
  "nbformat": 4,
  "nbformat_minor": 0
}
